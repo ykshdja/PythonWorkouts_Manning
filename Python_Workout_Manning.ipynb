{
 "cells": [
  {
   "cell_type": "code",
   "execution_count": 26,
   "id": "d7cffeda",
   "metadata": {},
   "outputs": [
    {
     "name": "stdout",
     "output_type": "stream",
     "text": [
      "Guess a Number:45\n",
      "Your Guess is too low, The Answer:93 \n",
      "Guess a Number:93\n",
      "You are Right:93\n"
     ]
    }
   ],
   "source": [
    "#CHAPTER 1 - NUMERICS \n",
    "#Exercise 1 : Number Guessing Game \n",
    "#What you need to know -\n",
    "#f-strings -  strings into which expressions can be interpolated\n",
    "#Enumerations - Number Elements to Iterables \n",
    "#reversed - Function that returns the reversed element of an iterable\n",
    "\n",
    "# Walrus operator - untill Python 3.7 --> '=' operator was not considered as an expression(so It Would not return a value.)\n",
    "# So, We have a Walrus Operator - Python 3.8 --> ':=' With Walrus Operator you can workout the 'While True Loop'\n",
    "# While true loop\n",
    "#while s:=input(\"Enter your Thoughts:\"):\n",
    "    #print(f'So you think: {s}')\n",
    "    \n",
    "import random\n",
    "\n",
    "def guessing_game():\n",
    "    choices = random.sample(range(1,100),3)\n",
    "    x = random.randint(0,2)\n",
    "    answer = choices[x]\n",
    "    while(True):\n",
    "        user_guess = int(input(\"Guess a Number:\"))\n",
    "        if(user_guess == answer):\n",
    "            print(f\"You are Right:{answer}\")\n",
    "            break\n",
    "        if(user_guess<answer):\n",
    "            print(f\"Your Guess is too low, The Answer:{answer} \")\n",
    "        else:\n",
    "            print(f'Your Guess is too High:{answer}')\n",
    "        \n",
    "            \n",
    "\n",
    "guessing_game()\n",
    "\n"
   ]
  },
  {
   "cell_type": "code",
   "execution_count": 36,
   "id": "3465e6d1",
   "metadata": {},
   "outputs": [
    {
     "data": {
      "text/plain": [
       "10"
      ]
     },
     "execution_count": 36,
     "metadata": {},
     "output_type": "execute_result"
    }
   ],
   "source": [
    "# Exercise number 2 -  Summing Numbers - Multiple Argument Input\n",
    "# Turning Iterables into Arguments :\n",
    "# What if we had a list as an argument - [1,2,3,4] - We have four elements to be iterated, but python \n",
    "# python will only iterate over one because argument will look like - ([1,2,3,4], *)- It considered \n",
    "# The list as one argument - number arguments are considered to be a tuple. Python will come up with \n",
    "# TypeError Exception - Solution - Invoke the function like - mysum(*[1,2,3])\n",
    "def mysum(*numbers):\n",
    "    output = 0\n",
    "    for number in numbers:\n",
    "        output+=number\n",
    "    return output\n",
    "mysum(*[1,2,3,4])\n",
    "    "
   ]
  },
  {
   "cell_type": "code",
   "execution_count": 8,
   "id": "f94ae164",
   "metadata": {},
   "outputs": [
    {
     "name": "stdout",
     "output_type": "stream",
     "text": [
      "Enter 10 km run:1\n",
      "Enter 10 km run:1\n",
      "Enter 10 km run:1\n",
      "Enter 10 km run:\n",
      "Average time 1.0 for 3\n"
     ]
    }
   ],
   "source": [
    "#Exercise 3 : Running Time - Keeping track of Data. Making Use of try and Except Block\n",
    "# FLoating Point Numbers - We all know how floating point Math Works - 0.1+0.2!=0.3\n",
    "# Reason for Floating Point Math - is that Computers can only store integers and they need some way to\n",
    "# represent decimals - It tries to convert the computers' binary(-2 base) to a human readable (-10 base)\n",
    "# And (-10 Base system) can only express fractions that uses the prime factor of that base.\n",
    "# You can limit the output by putting floating point output in a f'string \n",
    "\n",
    "def running_time():\n",
    "    num_of_run = 0\n",
    "    total_time = 0\n",
    "    while True:\n",
    "        one_run = input(\"Enter 10 km run:\")\n",
    "        if not one_run:\n",
    "            break\n",
    "        num_of_run+=1\n",
    "        total_time += float(one_run)\n",
    "    average_time = total_time/num_of_run\n",
    "    print(f'Average time {average_time} for {num_of_run}')\n",
    "running_time()\n"
   ]
  },
  {
   "cell_type": "code",
   "execution_count": 19,
   "id": "fd3c273a",
   "metadata": {},
   "outputs": [
    {
     "name": "stdout",
     "output_type": "stream",
     "text": [
      "Floating point Number - 1234.56789\n",
      "\n",
      "34.56\n",
      "Floating point Number - 98765.432111\n",
      "\n",
      "5.4\n"
     ]
    }
   ],
   "source": [
    "#Exercise 3 Beyond the Exercise\n",
    "def float_num(num,start,end):\n",
    "    str_num = str(num)\n",
    "    length = len(str_num)\n",
    "    print(\"Floating point Number - \"+str_num)\n",
    "    print()\n",
    "    print(float(str_num[start:length-end]))\n",
    "    \n",
    "\n",
    "float_num(1234.56789,2,3)\n",
    "float_num(98765.432111,4,5)\n",
    "    "
   ]
  },
  {
   "cell_type": "code",
   "execution_count": 3,
   "id": "6e652aab",
   "metadata": {},
   "outputs": [],
   "source": [
    "#Exercise 3 Beyond the Exercise.\n"
   ]
  },
  {
   "cell_type": "code",
   "execution_count": 4,
   "id": "3f5098a8",
   "metadata": {
    "scrolled": true
   },
   "outputs": [
    {
     "name": "stdout",
     "output_type": "stream",
     "text": [
      "0:a\n",
      "1:b\n",
      "2:c\n",
      "3:d\n"
     ]
    }
   ],
   "source": [
    "#Exercise 4: Hexadecimal output,Use of Reversed and Enumerated\n",
    "# In python, Using For loop for iterating over a character will not give you the index. for getting the index\n",
    "# If We want the numeric index of each character the we use enumerate function.\n",
    "# Enumerate function returns a two-element tuple with each iteration.\n",
    "# By making use of Enumerate function, we can capture index of a character and stick them into our power\n",
    "# and digit function.\n",
    "# Reversed function returns an Iterator(consumes less memory)\n",
    "\n",
    "\n",
    "\n",
    "def hex_output():\n",
    "    decnum = 0\n",
    "    hexnum = input(\"En\")\n"
   ]
  },
  {
   "cell_type": "code",
   "execution_count": 20,
   "id": "57efd332",
   "metadata": {},
   "outputs": [],
   "source": [
    "#Exercise 4 Beyond the Exercise"
   ]
  },
  {
   "cell_type": "code",
   "execution_count": 21,
   "id": "bf3c2972",
   "metadata": {},
   "outputs": [],
   "source": [
    "#Exercise 4 Beyond the Exercise"
   ]
  },
  {
   "cell_type": "code",
   "execution_count": 1,
   "id": "191cd9cb",
   "metadata": {},
   "outputs": [
    {
     "name": "stdout",
     "output_type": "stream",
     "text": [
      "Enter a Word:Bet\n"
     ]
    },
    {
     "data": {
      "text/plain": [
       "'etBay'"
      ]
     },
     "execution_count": 1,
     "metadata": {},
     "output_type": "execute_result"
    }
   ],
   "source": [
    "#CHAPTER 2 -  STRINGS\n",
    "# Strings Imp Facts - \n",
    "# 1. Immuatble \n",
    "# 2. In Python 3, they are encoded in UTF-8.\n",
    "# String Functions - str.split(), str.join(), list.append(), slice, sorted.\n",
    "\n",
    "# String Slice -  \n",
    "\n",
    "#Exercise 5 - Pig Latin Contains No Capital and No punctuation.\n",
    "import string\n",
    "\n",
    "def pig_latin():\n",
    "    word = input(\"Enter a Word:\")\n",
    "    start_vowel = False\n",
    "    for vowel in 'aieou':\n",
    "        if(word[0] == vowel):\n",
    "            start_vowel = True\n",
    "            word = word + 'way'\n",
    "            for i in word:\n",
    "                if i in string.punctuation:\n",
    "                    word = word + i\n",
    "                    \n",
    "            return (word)\n",
    "            break\n",
    "        else:\n",
    "            for i in word:\n",
    "                if i in string.punctuation:\n",
    "                    print(\"punct\")\n",
    "            return f'{word[1:]}{word[0]}ay'\n",
    "        \n",
    "   \n",
    "pig_latin()"
   ]
  },
  {
   "cell_type": "code",
   "execution_count": 78,
   "id": "6bd645c2",
   "metadata": {},
   "outputs": [],
   "source": [
    "#Exercise 5 -  Beyond the Exercise"
   ]
  },
  {
   "cell_type": "code",
   "execution_count": 3,
   "id": "8dc52ebf",
   "metadata": {},
   "outputs": [],
   "source": [
    "#Exercise 6 - Pig Latin Sentences // Work on it Tommorow\n",
    "\n",
    "def pl_sentence():\n",
    "    return 0\n",
    "    "
   ]
  },
  {
   "cell_type": "code",
   "execution_count": 37,
   "id": "a9676307",
   "metadata": {},
   "outputs": [
    {
     "name": "stdout",
     "output_type": "stream",
     "text": [
      "Enter a word to be translated to Ubbi-Dubbi: Python\n",
      "['P', 'y', 't', 'h', 'o', 'n']\n",
      "Pythubn\n"
     ]
    }
   ],
   "source": [
    "# Exercise 7 - Ubbi Dubbi - Strings are Immutable - Thinking ->  Modifying string more than once.\n",
    "# Ubbi Dubbi - Translator game for Children - {a,e,i,o,u} ->ub\n",
    "\n",
    "def ubbi_dubbi():\n",
    "    user_input = input(\"Enter a word to be translated to Ubbi-Dubbi: \")\n",
    "    list_input = list(user_input)\n",
    "    print(list_input)\n",
    "    for i in range(len(list_input)):\n",
    "        for vowel in 'aioue':\n",
    "            if(list_input[i] == vowel):\n",
    "                list_input[i] = 'ub'\n",
    "                \n",
    "    word_str =  ''.join(list_input)\n",
    "    print(word_str)\n",
    "    \n",
    "    \n",
    "    \n",
    "ubbi_dubbi()"
   ]
  },
  {
   "cell_type": "code",
   "execution_count": null,
   "id": "78901bc6",
   "metadata": {},
   "outputs": [],
   "source": [
    "#Exercise 7 Beyond the Exercise"
   ]
  },
  {
   "cell_type": "code",
   "execution_count": 39,
   "id": "3b3ab189",
   "metadata": {},
   "outputs": [
    {
     "name": "stdout",
     "output_type": "stream",
     "text": [
      "zalbxy\n"
     ]
    }
   ],
   "source": [
    "#Exercise 8 --Sort a String in order of their lowest Unicode value to the highest Unicode Value.\n",
    "\n",
    "def strsort(a_string):\n",
    "    return ''.join(sorted(a_string))\n",
    "print('zalbxy')\n",
    "    "
   ]
  },
  {
   "cell_type": "code",
   "execution_count": 12,
   "id": "7c6822b9",
   "metadata": {},
   "outputs": [
    {
     "data": {
      "text/plain": [
       "[0, 9, 8, 27, 27]"
      ]
     },
     "execution_count": 12,
     "metadata": {},
     "output_type": "execute_result"
    }
   ],
   "source": [
    "#CHAPTER 3 - LIST AND TUPLE\n",
    "# List and Tuples - Built in Collections in Python.\n",
    "# Lists are mutable and tuples are immutable.\n",
    "# List - Support many methods and operators / Tuples - Pass it, retreive its element, store in it, make some queries\n",
    "# Lists can be extended,contracted,modified,searched,sorted,replaced.\n",
    "# Python -3 Types of Sequences - Strings, Lists(mutable),Tuples\n",
    "#This Exercise is an Example of Pythons Dynamic Typing - Below Function can accept any indexible type.\n",
    "\n",
    "#Exercise 9 - Method firstlast() is a method that takes a sequence(String,list,tuple)\n",
    "\n",
    "def lastFirst(seq):\n",
    "    return seq[1:] + seq[-1:]\n",
    "lastFirst([1,0,9,8,27])"
   ]
  },
  {
   "cell_type": "code",
   "execution_count": 18,
   "id": "ff725bed",
   "metadata": {},
   "outputs": [
    {
     "name": "stdout",
     "output_type": "stream",
     "text": [
      "[1, 2, 3, 4, 5]\n",
      "[6, 9]\n",
      "(1, 2, 3, 4, 5, 6)\n",
      "[12, 9]\n"
     ]
    }
   ],
   "source": [
    "# Exercise 9 - Beyond the Exercise 1\n",
    "\n",
    "def even_odd_sum(seq):\n",
    "    print(seq)\n",
    "    sum = list()\n",
    "    odd_sum = 0\n",
    "    even_sum = 0\n",
    "    for i in range(len(seq)):\n",
    "        if(seq[i]%2 == 0):\n",
    "            even_sum += seq[i]\n",
    "        if(seq[i]%2!=0):\n",
    "            odd_sum+=seq[i]\n",
    "    sum.insert(0,even_sum)\n",
    "    sum.insert(1,odd_sum)\n",
    "    print(sum)\n",
    "    \n",
    "    \n",
    "even_odd_sum([1,2,3,4,5])\n",
    "even_odd_sum((1,2,3,4,5,6))\n"
   ]
  },
  {
   "cell_type": "code",
   "execution_count": 28,
   "id": "349c2353",
   "metadata": {},
   "outputs": [
    {
     "name": "stdout",
     "output_type": "stream",
     "text": [
      "([1, 2, 3, 4], 'abc')\n"
     ]
    }
   ],
   "source": [
    "#Exercise 9 - Beyond# the Exercise 3\n",
    "# Write a function that Emulates the Zip function\n",
    "# Zip function - Parallel Iteration Over two different types of Iterables. \n",
    "\n",
    "def myZip(*arg):\n",
    "    print(arg)\n",
    "    \n",
    "\n",
    "\n",
    "myZip([1,2,3,4],'abc')"
   ]
  },
  {
   "cell_type": "code",
   "execution_count": 36,
   "id": "8d1c60d7",
   "metadata": {},
   "outputs": [
    {
     "name": "stdout",
     "output_type": "stream",
     "text": [
      "21\n",
      "abcdc\n"
     ]
    }
   ],
   "source": [
    "#Exercise 10 - Summing anything - Hard \n",
    "#Experimenting with types. Running methods on the Elements of the argument.\n",
    "# Task - Redefine the mysum function. Function can take any number of argument.\n",
    "# The argument must of the same type. The Function should work with any type (Numbers, List, String, Tuples)\n",
    "\n",
    "# Working it out - We are taking an argument for a function called mysum. Mysum Returns the sum of a Sequence.\n",
    "# Use -  \"*\" for Multiple Arguments. *items\n",
    "# First Thing -  Check if we have recieved any Arguments. If not We return items (An Empty list)\n",
    "# We just check for False value of a sequence. In Python An Empty sequence has a boolean value of false.\n",
    "# We grab the first Element and we assign it to Output.\n",
    "# Now we can start iteration from seq[1:0], As we have already assigned the index[0] to output.\n",
    "\n",
    "def mysum(*items):\n",
    "    if not items:\n",
    "        return items\n",
    "    output = items[0]\n",
    "    # Now we have already assigned item[0] to output. So, iteration from items[1]\n",
    "    for item in items[1:]:\n",
    "        output+=item\n",
    "    return output\n",
    "\n",
    "print(mysum(1,2,3,4,5,6))\n",
    "print(mysum('a','b','c','d','c'))\n",
    "    "
   ]
  },
  {
   "cell_type": "code",
   "execution_count": 37,
   "id": "99a5c90a",
   "metadata": {},
   "outputs": [],
   "source": [
    "#Exercise 10 - Beyond the Exercise\n"
   ]
  },
  {
   "cell_type": "code",
   "execution_count": 8,
   "id": "e77c754c",
   "metadata": {},
   "outputs": [
    {
     "name": "stdout",
     "output_type": "stream",
     "text": [
      "[{'first': 'Reuven', 'last': 'Lerner', 'email': 'reuven@lerner.co.il'}, {'first': 'Vladimir', 'last': 'Putin', 'email': 'president@kremvax.ru'}, {'first': 'Donald', 'last': 'Trump', 'email': 'president@whitehouse.gov'}]\n"
     ]
    }
   ],
   "source": [
    "#Exercise 11 - Alphabetizing names - We have a dictionary in a list. Dictionary of phone numbers.\n",
    "# Sort the numbers by a.) First name b.)Last name.\n",
    "# Python does not really have constants. Anything defined outside of a function is considered as constant.\n",
    "# Python Data Structure \n",
    "\n",
    "PEOPLE = [{'first':'Reuven', 'last':'Lerner',\n",
    "'email':'reuven@lerner.co.il'},\n",
    "{'first':'Donald', 'last':'Trump','email':'president@whitehouse.gov'},\n",
    "{'first':'Vladimir', 'last':'Putin',\n",
    "'email':'president@kremvax.ru'}\n",
    "]\n",
    "\n",
    "#for person in PEOPLE:\n",
    "#    print(f'{person[\"last\"]}, {person[\"first\"]}: {person[\"email\"]}')\n",
    "    \n",
    "#we want to tell Python’s sort facility\n",
    "#that it shouldn’t compare dicts. Rather, it should compare the last and first values\n",
    "#from within each dict\n",
    "#mylist = ['abcd', 'efg', 'hi', 'j']\n",
    "#mylist = sorted(mylist,key=len)\n",
    "#print(mylist) -- Sorted a list by length as a key.List is sorted in increasing order of length.\n",
    "#-------------------------------------------------------------------------------------------------\n",
    "# Operator module - itemgetter function ---> itemgetter('last','first')\n",
    "from operator import itemgetter\n",
    "def alphabetize_names(list_dicts):\n",
    "    return(sorted(list_dicts,key = itemgetter('last','first')))\n",
    "\n",
    "print(alphabetize_names(PEOPLE))"
   ]
  },
  {
   "cell_type": "code",
   "execution_count": 53,
   "id": "535aa98e",
   "metadata": {},
   "outputs": [
    {
     "data": {
      "text/plain": [
       "'elementary'"
      ]
     },
     "execution_count": 53,
     "metadata": {},
     "output_type": "execute_result"
    }
   ],
   "source": [
    "#Exercise 12-  Words with most repeated letters\n",
    "#Find the most repeating words from a sequence of strings\n",
    "#Use of most_common Function \n",
    "from collections import Counter\n",
    "\n",
    "WORDS = ['this', 'is', 'an','elementary', 'test', 'example']\n",
    "def most_repeat_letter_count(word):\n",
    "    return Counter(word).most_common(1)[0][1]\n",
    "\n",
    "def most_repeat_word_count(word):\n",
    "    return sorted(word,key=most_repeat_letter_count)[-1]\n",
    "#Sorts the list of words from least repeating words to most repeating\n",
    "#['this', 'is', 'an', 'test', 'example', 'elementary']\n",
    "\n",
    "\n",
    "most_repeat_word_count(WORDS)\n"
   ]
  },
  {
   "cell_type": "code",
   "execution_count": null,
   "id": "ccdb88fb",
   "metadata": {},
   "outputs": [],
   "source": [
    "#Exercise 13 -- \n",
    "PEOPLE = [('Donald', 'Trump', 7.85),\n",
    "('Vladimir', 'Putin', 3.626),\n",
    "('Jinping', 'Xi', 10.603)]\n",
    "\n"
   ]
  }
 ],
 "metadata": {
  "kernelspec": {
   "display_name": "Python 3",
   "language": "python",
   "name": "python3"
  },
  "language_info": {
   "codemirror_mode": {
    "name": "ipython",
    "version": 3
   },
   "file_extension": ".py",
   "mimetype": "text/x-python",
   "name": "python",
   "nbconvert_exporter": "python",
   "pygments_lexer": "ipython3",
   "version": "3.8.8"
  }
 },
 "nbformat": 4,
 "nbformat_minor": 5
}
