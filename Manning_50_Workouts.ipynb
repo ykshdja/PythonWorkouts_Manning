{
 "cells": [
  {
   "cell_type": "code",
   "execution_count": 13,
   "id": "2d71e49e",
   "metadata": {},
   "outputs": [
    {
     "name": "stdout",
     "output_type": "stream",
     "text": [
      "Trump Donald 7.85\n",
      "Xi Jinping 10.603\n",
      "Putin Vladimir 3.626\n"
     ]
    }
   ],
   "source": [
    "#Exercise 13 - Tuple Records\n",
    "#Python's format_sort_records funtion will take list and return a formatted string.\n",
    "from operator import itemgetter\n",
    "PEOPLE = [('Donald', 'Trump', 7.85),\n",
    "('Vladimir', 'Putin', 3.626),\n",
    "('Jinping', 'Xi', 10.603)]\n",
    "def format_sort_records(list_tuples, key=itemgetter(1,0)):\n",
    "    output = [] # Return a List\n",
    "    template = '{1} {0} {2}'\n",
    "    #Sort Tuple - sorted function\n",
    "    for i in sorted(list_tuples):\n",
    "        output.append(template.format(*i))\n",
    "        \n",
    "    return output\n",
    "    \n",
    "print('\\n'.join(format_sort_records(PEOPLE)))\n",
    "# This Exercise can be done with named tuples -\n",
    "# collections.namedtuple"
   ]
  },
  {
   "cell_type": "code",
   "execution_count": 18,
   "id": "87e18268",
   "metadata": {},
   "outputs": [
    {
     "name": "stdout",
     "output_type": "stream",
     "text": [
      "Enter for Sorting the Movie by \n",
      " 1.Director's Name \n",
      "2.Title \n",
      "3.Length1\n",
      "[('Parasite', '2.12', 'Bong Joon-ho', '2020'), ('Birdman', '1.59', 'Alejandro González Iñárritu', '2014'), ('The Revenant', '2.63', 'Alva Noto', '2016'), ('Moonlight', '1.51', 'Barry Jenkins', '2015'), ('La La Land', '2.08', 'Damien Chazelle', '2016')]\n"
     ]
    }
   ],
   "source": [
    "# Exercise 13 Beyond the Exercise - \n",
    "#Define a list of tuples, in which each tuple contains the name, length (in minutes), and director of the movies nominated for best picture Oscar awards last\n",
    "#year. Ask the user whether they want to sort the list by title, length, or director’s\n",
    "#name, and then present the list sorted by the user’s choice of axis\n",
    "PEOPLE_LIST = [('Parasite','2.12','Bong Joon-ho','2020'),('Birdman','1.59','Alejandro González Iñárritu','2014'),('The Revenant','2.63','Alva Noto','2016'),('Moonlight','1.51','Barry Jenkins','2015'),('La La Land','2.08','Damien Chazelle','2016') ]\n",
    "choice = int(input(\"Enter for Sorting the Movie by \\n 1.Director's Name \\n2.Title \\n3.Length\"))\n",
    "if(choice == 1):\n",
    "    print(PEOPLE_LIST)\n",
    "    \n",
    "    \n",
    "def sort_list(list_of_tuples, k):\n",
    "    \n",
    "    \n",
    "    "
   ]
  },
  {
   "cell_type": "code",
   "execution_count": null,
   "id": "244d0b59",
   "metadata": {},
   "outputs": [],
   "source": []
  }
 ],
 "metadata": {
  "kernelspec": {
   "display_name": "Python 3",
   "language": "python",
   "name": "python3"
  },
  "language_info": {
   "codemirror_mode": {
    "name": "ipython",
    "version": 3
   },
   "file_extension": ".py",
   "mimetype": "text/x-python",
   "name": "python",
   "nbconvert_exporter": "python",
   "pygments_lexer": "ipython3",
   "version": "3.8.8"
  }
 },
 "nbformat": 4,
 "nbformat_minor": 5
}
